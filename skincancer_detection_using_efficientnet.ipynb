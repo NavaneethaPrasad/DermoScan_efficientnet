{
 "cells": [
  {
   "cell_type": "code",
   "execution_count": 44,
   "metadata": {},
   "outputs": [
    {
     "name": "stdout",
     "output_type": "stream",
     "text": [
      "All modules have been imported\n"
     ]
    }
   ],
   "source": [
    "import os\n",
    "import sys\n",
    "import time\n",
    "from glob import glob\n",
    "from tqdm.notebook import tqdm\n",
    "\n",
    "import pandas as pd\n",
    "import numpy as np\n",
    "%matplotlib inline\n",
    "import matplotlib.pyplot as plt\n",
    "import seaborn as sns\n",
    "import plotly.express as px\n",
    "import pandas as pd\n",
    "\n",
    "import cv2\n",
    "from PIL import Image\n",
    "import shutil\n",
    "\n",
    "from sklearn.model_selection import train_test_split\n",
    "from sklearn.metrics import confusion_matrix, classification_report\n",
    "from sklearn.metrics import f1_score\n",
    "\n",
    "# TensorFlow Libraries\n",
    "import tensorflow as tf\n",
    "from tensorflow import keras\n",
    "from tensorflow.keras.preprocessing.image import ImageDataGenerator\n",
    "from tensorflow.keras.layers import Dense, Activation, Dropout, Conv2D, MaxPooling2D, BatchNormalization\n",
    "from tensorflow.keras.optimizers import Adam, Adamax\n",
    "from tensorflow.keras.metrics import categorical_crossentropy\n",
    "from tensorflow.keras import regularizers\n",
    "from tensorflow.keras.models import Model\n",
    "from tensorflow.keras import backend as K\n",
    "\n",
    "# Set environment settings and pandas display options\n",
    "os.environ['TF_CPP_MIN_LOG_LEVEL'] = '2'\n",
    "pd.set_option('display.max_columns', None)\n",
    "pd.set_option('display.max_rows', None)\n",
    "pd.set_option('display.max_colwidth', None)\n",
    "\n",
    "# Setting styles\n",
    "sns.set_style('darkgrid')\n",
    "\n",
    "# Warning settings\n",
    "if not sys.warnoptions:\n",
    "    import warnings\n",
    "    warnings.simplefilter(\"ignore\")\n",
    "\n",
    "print('All modules have been imported')"
   ]
  },
  {
   "cell_type": "code",
   "execution_count": 45,
   "metadata": {},
   "outputs": [
    {
     "data": {
      "text/html": [
       "<div>\n",
       "<style scoped>\n",
       "    .dataframe tbody tr th:only-of-type {\n",
       "        vertical-align: middle;\n",
       "    }\n",
       "\n",
       "    .dataframe tbody tr th {\n",
       "        vertical-align: top;\n",
       "    }\n",
       "\n",
       "    .dataframe thead th {\n",
       "        text-align: right;\n",
       "    }\n",
       "</style>\n",
       "<table border=\"1\" class=\"dataframe\">\n",
       "  <thead>\n",
       "    <tr style=\"text-align: right;\">\n",
       "      <th></th>\n",
       "      <th>lesion_id</th>\n",
       "      <th>image_id</th>\n",
       "      <th>dx</th>\n",
       "      <th>dx_type</th>\n",
       "      <th>age</th>\n",
       "      <th>sex</th>\n",
       "      <th>localization</th>\n",
       "      <th>path</th>\n",
       "      <th>cell_type</th>\n",
       "      <th>cell_type_idx</th>\n",
       "    </tr>\n",
       "  </thead>\n",
       "  <tbody>\n",
       "    <tr>\n",
       "      <th>3827</th>\n",
       "      <td>LES_image3828_df</td>\n",
       "      <td>image3828</td>\n",
       "      <td>df</td>\n",
       "      <td>consensus</td>\n",
       "      <td>70</td>\n",
       "      <td>female</td>\n",
       "      <td>leg</td>\n",
       "      <td>D:\\Main4\\dataset_new/image3828.jpg</td>\n",
       "      <td>Dermatofibroma</td>\n",
       "      <td>3</td>\n",
       "    </tr>\n",
       "    <tr>\n",
       "      <th>1017</th>\n",
       "      <td>LES_image1018_bcc</td>\n",
       "      <td>image1018</td>\n",
       "      <td>bcc</td>\n",
       "      <td>consensus</td>\n",
       "      <td>45</td>\n",
       "      <td>male</td>\n",
       "      <td>back</td>\n",
       "      <td>D:\\Main4\\dataset_new/image1018.jpg</td>\n",
       "      <td>Basal cell carcinoma</td>\n",
       "      <td>1</td>\n",
       "    </tr>\n",
       "    <tr>\n",
       "      <th>6768</th>\n",
       "      <td>LES_image6769_nv</td>\n",
       "      <td>image6769</td>\n",
       "      <td>nv</td>\n",
       "      <td>confocal</td>\n",
       "      <td>65</td>\n",
       "      <td>male</td>\n",
       "      <td>back</td>\n",
       "      <td>D:\\Main4\\dataset_new/image6769.jpg</td>\n",
       "      <td>Melanocytic nevi</td>\n",
       "      <td>5</td>\n",
       "    </tr>\n",
       "  </tbody>\n",
       "</table>\n",
       "</div>"
      ],
      "text/plain": [
       "              lesion_id   image_id   dx    dx_type  age     sex localization  \\\n",
       "3827   LES_image3828_df  image3828   df  consensus   70  female          leg   \n",
       "1017  LES_image1018_bcc  image1018  bcc  consensus   45    male         back   \n",
       "6768   LES_image6769_nv  image6769   nv   confocal   65    male         back   \n",
       "\n",
       "                                    path             cell_type  cell_type_idx  \n",
       "3827  D:\\Main4\\dataset_new/image3828.jpg        Dermatofibroma              3  \n",
       "1017  D:\\Main4\\dataset_new/image1018.jpg  Basal cell carcinoma              1  \n",
       "6768  D:\\Main4\\dataset_new/image6769.jpg      Melanocytic nevi              5  "
      ]
     },
     "execution_count": 45,
     "metadata": {},
     "output_type": "execute_result"
    }
   ],
   "source": [
    "import os\n",
    "import pandas as pd\n",
    "\n",
    "# Specify the base directory containing all the images\n",
    "base_folder = r'D:\\Main4\\dataset_new'\n",
    "\n",
    "# Read the skin lesions CSV file\n",
    "csv_file = r\"D:\\Main4\\skin_lesions.csv\"\n",
    "tile_df = pd.read_csv(csv_file)\n",
    "\n",
    "# Construct the file paths by concatenating the base folder path with the image filenames\n",
    "tile_df['path'] = base_folder + '/' + tile_df['image_id'] + '.jpg'\n",
    "\n",
    "# Define the lesion type dictionary\n",
    "lesion_type_dict = {\n",
    "    'akiec': 'Actinic keratoses',\n",
    "    'bcc': 'Basal cell carcinoma',\n",
    "    'bkl': 'Benign keratosis-like lesions',\n",
    "    'df': 'Dermatofibroma',\n",
    "    'nv': 'Melanocytic nevi',\n",
    "    'vasc': 'Vascular lesions',\n",
    "    'mel': 'Melanoma',\n",
    "    'healthy': 'Healthy'  # Assuming 'healthy' represents a class for healthy skin\n",
    "}\n",
    "\n",
    "# Map the lesion types to their corresponding labels\n",
    "tile_df['cell_type'] = tile_df['dx'].map(lesion_type_dict)\n",
    "\n",
    "# Convert the lesion type labels to categorical codes\n",
    "tile_df['cell_type_idx'] = pd.Categorical(tile_df['cell_type']).codes\n",
    "\n",
    "# Display a sample of the DataFrame\n",
    "tile_df.sample(3)\n"
   ]
  },
  {
   "cell_type": "code",
   "execution_count": 46,
   "metadata": {},
   "outputs": [
    {
     "data": {
      "text/html": [
       "<div>\n",
       "<style scoped>\n",
       "    .dataframe tbody tr th:only-of-type {\n",
       "        vertical-align: middle;\n",
       "    }\n",
       "\n",
       "    .dataframe tbody tr th {\n",
       "        vertical-align: top;\n",
       "    }\n",
       "\n",
       "    .dataframe thead th {\n",
       "        text-align: right;\n",
       "    }\n",
       "</style>\n",
       "<table border=\"1\" class=\"dataframe\">\n",
       "  <thead>\n",
       "    <tr style=\"text-align: right;\">\n",
       "      <th></th>\n",
       "      <th>filepaths</th>\n",
       "      <th>labels</th>\n",
       "    </tr>\n",
       "  </thead>\n",
       "  <tbody>\n",
       "    <tr>\n",
       "      <th>0</th>\n",
       "      <td>D:\\Main4\\dataset_new/image0001.jpg</td>\n",
       "      <td>0</td>\n",
       "    </tr>\n",
       "    <tr>\n",
       "      <th>1</th>\n",
       "      <td>D:\\Main4\\dataset_new/image0002.jpg</td>\n",
       "      <td>0</td>\n",
       "    </tr>\n",
       "    <tr>\n",
       "      <th>2</th>\n",
       "      <td>D:\\Main4\\dataset_new/image0003.jpg</td>\n",
       "      <td>0</td>\n",
       "    </tr>\n",
       "    <tr>\n",
       "      <th>3</th>\n",
       "      <td>D:\\Main4\\dataset_new/image0004.jpg</td>\n",
       "      <td>0</td>\n",
       "    </tr>\n",
       "    <tr>\n",
       "      <th>4</th>\n",
       "      <td>D:\\Main4\\dataset_new/image0005.jpg</td>\n",
       "      <td>0</td>\n",
       "    </tr>\n",
       "  </tbody>\n",
       "</table>\n",
       "</div>"
      ],
      "text/plain": [
       "                            filepaths labels\n",
       "0  D:\\Main4\\dataset_new/image0001.jpg      0\n",
       "1  D:\\Main4\\dataset_new/image0002.jpg      0\n",
       "2  D:\\Main4\\dataset_new/image0003.jpg      0\n",
       "3  D:\\Main4\\dataset_new/image0004.jpg      0\n",
       "4  D:\\Main4\\dataset_new/image0005.jpg      0"
      ]
     },
     "execution_count": 46,
     "metadata": {},
     "output_type": "execute_result"
    }
   ],
   "source": [
    "import pandas as pd\n",
    "\n",
    "df = pd.DataFrame()\n",
    "\n",
    "# Assign the 'path' column from tile_df to 'filepaths' column in df\n",
    "df['filepaths'] = tile_df['path']\n",
    "\n",
    "# Assign the 'cell_type_idx' column from tile_df to 'labels' column in df\n",
    "df['labels'] = tile_df['cell_type_idx']\n",
    "\n",
    "# Convert labels to string type\n",
    "df['labels'] = df['labels'].astype(str)\n",
    "\n",
    "df.head()\n"
   ]
  },
  {
   "cell_type": "code",
   "execution_count": 48,
   "metadata": {},
   "outputs": [
    {
     "data": {
      "text/plain": [
       "array(['0', '1', '2', '3', '4', '6', '5', '7'], dtype=object)"
      ]
     },
     "execution_count": 48,
     "metadata": {},
     "output_type": "execute_result"
    }
   ],
   "source": [
    "df.labels.unique()"
   ]
  },
  {
   "cell_type": "code",
   "execution_count": 49,
   "metadata": {},
   "outputs": [
    {
     "data": {
      "text/plain": [
       "array(['Actinic keratoses', 'Basal cell carcinoma',\n",
       "       'Benign keratosis-like lesions', 'Dermatofibroma', 'Healthy',\n",
       "       'Melanoma', 'Melanocytic nevi', 'Vascular lesions'], dtype=object)"
      ]
     },
     "execution_count": 49,
     "metadata": {},
     "output_type": "execute_result"
    }
   ],
   "source": [
    "tile_df['cell_type'].unique()"
   ]
  },
  {
   "cell_type": "code",
   "execution_count": 50,
   "metadata": {},
   "outputs": [
    {
     "name": "stdout",
     "output_type": "stream",
     "text": [
      "train_df length:  6400   test_df length:  800   valid_df length:  800\n"
     ]
    }
   ],
   "source": [
    "def split_df(df, trsize, column):\n",
    "    train_df, dummy_df = train_test_split(df, train_size=trsize, shuffle=True, random_state=14, stratify=df[column])\n",
    "    valid_df, test_df= train_test_split(dummy_df, train_size=.5, shuffle=True, random_state=14, stratify=dummy_df[column])\n",
    "    print('train_df length: ', len(train_df), '  test_df length: ', len(test_df), '  valid_df length: ', len(valid_df)) \n",
    "    return train_df, test_df, valid_df    \n",
    "\n",
    "train_df, test_df, valid_df  = split_df(df, .8, 'labels')"
   ]
  },
  {
   "cell_type": "code",
   "execution_count": 51,
   "metadata": {},
   "outputs": [
    {
     "name": "stdout",
     "output_type": "stream",
     "text": [
      "['2' '7' '1' '0' '5' '6' '4' '3']\n",
      "dataframe initially is of length  6400  with  8  classes\n",
      "after trimming, the maximum samples in any class is now  1000  and the minimum samples in any class is  10\n",
      "the trimmed dataframe now is of length  6400  with  8  classes\n"
     ]
    }
   ],
   "source": [
    "def trim(df, max_samples, min_samples, column):\n",
    "    df=df.copy()\n",
    "    classes= df[column].unique()\n",
    "    print(classes)\n",
    "    class_count=len(classes)\n",
    "    length=len(df)\n",
    "    print ('dataframe initially is of length ',length, ' with ', class_count, ' classes')\n",
    "    groups=df.groupby(column)    \n",
    "    trimmed_df = pd.DataFrame(columns = df.columns)\n",
    "    groups=df.groupby(column)\n",
    "    for label in df[column].unique(): \n",
    "        group=groups.get_group(label)\n",
    "        count=len(group)    \n",
    "        if count > max_samples:\n",
    "            sampled_group=group.sample(n=max_samples, random_state=123,axis=0)\n",
    "            trimmed_df=pd.concat([trimmed_df, sampled_group], axis=0)\n",
    "        else:\n",
    "            if count>=min_samples:\n",
    "                sampled_group=group        \n",
    "                trimmed_df=pd.concat([trimmed_df, sampled_group], axis=0)\n",
    "    print('after trimming, the maximum samples in any class is now ',max_samples, ' and the minimum samples in any class is ', min_samples)\n",
    "    classes=trimmed_df[column].unique()# return this in case some classes have less than min_samples\n",
    "    class_count=len(classes) # return this in case some classes have less than min_samples\n",
    "    length=len(trimmed_df)\n",
    "    print ('the trimmed dataframe now is of length ',length, ' with ', class_count, ' classes')\n",
    "    return trimmed_df, classes, class_count\n",
    "\n",
    "max_samples=1000\n",
    "min_samples= 10\n",
    "column='labels'\n",
    "train_df, classes, class_count= trim(train_df, max_samples, min_samples, column)"
   ]
  },
  {
   "cell_type": "code",
   "execution_count": 52,
   "metadata": {},
   "outputs": [
    {
     "name": "stdout",
     "output_type": "stream",
     "text": [
      "Found 6400 validated image filenames belonging to 8 classes.           for train generator \n",
      "Found 800 validated image filenames belonging to 8 classes.            for valid generator \n",
      "Found 800 validated image filenames belonging to 8 classes.            for test generator \n",
      "test batch size:  80   test steps:  10  number of classes :  8\n"
     ]
    }
   ],
   "source": [
    "def make_gens(batch_size, ycol, train_df, test_df, valid_df, img_size):\n",
    "    trgen=ImageDataGenerator(horizontal_flip=True)    \n",
    "    t_and_v_gen=ImageDataGenerator()\n",
    "    msg='{0:70s} for train generator'.format(' ')\n",
    "    print(msg, '\\r', end='') # prints over on the same line\n",
    "    train_gen=trgen.flow_from_dataframe(train_df, x_col='filepaths', y_col=ycol, target_size=img_size,\n",
    "                                       class_mode='categorical', color_mode='rgb', shuffle=True, batch_size=batch_size)\n",
    "    msg='{0:70s} for valid generator'.format(' ')\n",
    "    print(msg, '\\r', end='') # prints over on the same line\n",
    "    valid_gen=t_and_v_gen.flow_from_dataframe(valid_df, x_col='filepaths', y_col=ycol, target_size=img_size,\n",
    "                                       class_mode='categorical', color_mode='rgb', shuffle=False, batch_size=batch_size)\n",
    "    # for the test_gen we want to calculate the batch size and test steps such that batch_size X test_steps= number of samples in test set\n",
    "    # this insures that we go through all the sample in the test set exactly once.\n",
    "    length=len(test_df)\n",
    "    test_batch_size=sorted([int(length/n) for n in range(1,length+1) if length % n ==0 and length/n<=80],reverse=True)[0]  \n",
    "    test_steps=int(length/test_batch_size)    \n",
    "    msg='{0:70s} for test generator'.format(' ')\n",
    "    print(msg, '\\r', end='') # prints over on the same line\n",
    "    test_gen=t_and_v_gen.flow_from_dataframe(test_df, x_col='filepaths', y_col=ycol, target_size=img_size,\n",
    "                                       class_mode='categorical', color_mode='rgb', shuffle=False, batch_size=test_batch_size)\n",
    "    # from the generator we can get information we will need later\n",
    "    classes=list(train_gen.class_indices.keys())\n",
    "    class_indices=list(train_gen.class_indices.values())\n",
    "    class_count=len(classes)\n",
    "    labels=test_gen.labels\n",
    "    print ( 'test batch size: ' ,test_batch_size, '  test steps: ', test_steps, ' number of classes : ', class_count)\n",
    "    return train_gen, test_gen, valid_gen, test_steps\n",
    "\n",
    "bs=16\n",
    "ycol='labels'\n",
    "img_size = (224, 224)  # Define the target size for images\n",
    "\n",
    "train_gen, test_gen, valid_gen, test_steps = make_gens(bs, ycol, train_df, test_df, valid_df, img_size)"
   ]
  },
  {
   "cell_type": "code",
   "execution_count": 53,
   "metadata": {},
   "outputs": [],
   "source": [
    "def F1_score(y_true, y_pred): #taken from old keras source code\n",
    "    true_positives = K.sum(K.round(K.clip(y_true * y_pred, 0, 1)))\n",
    "    possible_positives = K.sum(K.round(K.clip(y_true, 0, 1)))\n",
    "    predicted_positives = K.sum(K.round(K.clip(y_pred, 0, 1)))\n",
    "    precision = true_positives / (predicted_positives + K.epsilon())\n",
    "    recall = true_positives / (possible_positives + K.epsilon())\n",
    "    f1_val = 2*(precision*recall)/(precision+recall+K.epsilon())\n",
    "    return f1_val"
   ]
  },
  {
   "cell_type": "code",
   "execution_count": 54,
   "metadata": {},
   "outputs": [],
   "source": [
    "def print_in_color(txt_msg,fore_tupple=(0,255,255),back_tupple=(100,100,100)):\n",
    "    #prints the text_msg in the foreground color specified by fore_tupple with the background specified by back_tupple \n",
    "    #text_msg is the text, fore_tupple is foregroud color tupple (r,g,b), back_tupple is background tupple (r,g,b)\n",
    "    # default parameter print in cyan foreground and gray background\n",
    "    rf,gf,bf=fore_tupple\n",
    "    rb,gb,bb=back_tupple\n",
    "    msg='{0}' + txt_msg\n",
    "    mat='\\33[38;2;' + str(rf) +';' + str(gf) + ';' + str(bf) + ';48;2;' + str(rb) + ';' +str(gb) + ';' + str(bb) +'m' \n",
    "    print(msg .format(mat), flush=True)\n",
    "    print('\\33[0m', flush=True) # returns default print color to back to black\n",
    "    return\n"
   ]
  },
  {
   "cell_type": "code",
   "execution_count": 55,
   "metadata": {},
   "outputs": [
    {
     "name": "stdout",
     "output_type": "stream",
     "text": [
      "\u001b[38;2;0;255;255;48;2;100;100;100mCreated EfficientNet B3 model with initial learning rate set to 0.001\n",
      "\u001b[0m\n"
     ]
    }
   ],
   "source": [
    "def make_model(img_size, lr, mod_num=3):  \n",
    "    img_shape=(img_size[0], img_size[1], 3)\n",
    "    if mod_num == 0:\n",
    "        base_model=tf.keras.applications.efficientnet.EfficientNetB0(include_top=False, weights=\"imagenet\",input_shape=img_shape, pooling='max')\n",
    "        msg='Created EfficientNet B0 model'\n",
    "    elif mod_num == 3:\n",
    "        base_model=tf.keras.applications.efficientnet.EfficientNetB3(include_top=False, weights=\"imagenet\",input_shape=img_shape, pooling='max') \n",
    "        msg='Created EfficientNet B3 model'\n",
    "    elif mod_num == 5:\n",
    "        base_model=tf.keras.applications.efficientnet.EfficientNetB5(include_top=False, weights=\"imagenet\",input_shape=img_shape, pooling='max') \n",
    "        msg='Created EfficientNet B5 model'\n",
    "        \n",
    "    else:\n",
    "        base_model=tf.keras.applications.efficientnet.EfficientNetB7(include_top=False, weights=\"imagenet\",input_shape=img_shape, pooling='max')\n",
    "        msg='Created EfficientNet B7 model'   \n",
    "   \n",
    "    base_model.trainable= False\n",
    "    x=base_model.output\n",
    "    x=BatchNormalization(axis=-1, momentum=0.99, epsilon=0.001 )(x)\n",
    "    x = Dense(256, kernel_regularizer = regularizers.l2(l = 0.016),activity_regularizer=regularizers.l1(0.006),\n",
    "                    bias_regularizer=regularizers.l1(0.006) ,activation='relu')(x)\n",
    "    x=Dropout(rate=.4, seed=123)(x)       \n",
    "    output=Dense(class_count, activation='softmax')(x)\n",
    "    model=Model(inputs=base_model.input, outputs=output)\n",
    "    # Evidential Begins\n",
    "    model.compile(Adamax(learning_rate=lr), loss='categorical_crossentropy', metrics=['accuracy', F1_score, 'AUC']) \n",
    "    msg=msg + f' with initial learning rate set to {lr}'\n",
    "    print_in_color(msg)\n",
    "    return model\n",
    "\n",
    "lr=.001\n",
    "model=make_model(img_size, lr) # using B3 model by default"
   ]
  },
  {
   "cell_type": "code",
   "execution_count": 56,
   "metadata": {},
   "outputs": [],
   "source": [
    "class LR_ASK(keras.callbacks.Callback):\n",
    "    def __init__ (self, model, epochs,  ask_epoch, dwell=True, factor=.4): # initialization of the callback\n",
    "        super(LR_ASK, self).__init__()\n",
    "        self.model=model               \n",
    "        self.ask_epoch=ask_epoch\n",
    "        self.epochs=epochs\n",
    "        self.ask=True # if True query the user on a specified epoch\n",
    "        self.lowest_vloss=np.inf\n",
    "        self.lowest_aloss=np.inf\n",
    "        self.best_weights=self.model.get_weights() # set best weights to model's initial weights\n",
    "        self.best_epoch=1\n",
    "        self.plist=[]\n",
    "        self.alist=[]\n",
    "        self.dwell= dwell\n",
    "        self.factor=factor\n",
    "        \n",
    "    def get_list(self): # define a function to return the list of % validation change\n",
    "        return self.plist, self.alist\n",
    "    def on_train_begin(self, logs=None): # this runs on the beginning of training\n",
    "        if self.ask_epoch == 0: \n",
    "            print('you set ask_epoch = 0, ask_epoch will be set to 1', flush=True)\n",
    "            self.ask_epoch=1\n",
    "        if self.ask_epoch >= self.epochs: # you are running for epochs but ask_epoch>epochs\n",
    "            print('ask_epoch >= epochs, will train for ', epochs, ' epochs', flush=True)\n",
    "            self.ask=False # do not query the user\n",
    "        if self.epochs == 1:\n",
    "            self.ask=False # running only for 1 epoch so do not query user\n",
    "        else:\n",
    "            msg =f'Training will proceed until epoch {ask_epoch} then you will be asked to' \n",
    "            print_in_color(msg )\n",
    "            msg='enter H to halt training or enter an integer for how many more epochs to run then be asked again'\n",
    "            print_in_color(msg)\n",
    "            if self.dwell:\n",
    "                msg='learning rate will be automatically adjusted during training'\n",
    "                print_in_color(msg, (0,255,0))\n",
    "        self.start_time= time.time() # set the time at which training started\n",
    "       \n",
    "    def on_train_end(self, logs=None):   # runs at the end of training  \n",
    "        msg=f'loading model with weights from epoch {self.best_epoch}'\n",
    "        print_in_color(msg, (0,255,255))\n",
    "        self.model.set_weights(self.best_weights) # set the weights of the model to the best weights\n",
    "        tr_duration=time.time() - self.start_time   # determine how long the training cycle lasted         \n",
    "        hours = tr_duration // 3600\n",
    "        minutes = (tr_duration - (hours * 3600)) // 60\n",
    "        seconds = tr_duration - ((hours * 3600) + (minutes * 60))\n",
    "        msg = f'training elapsed time was {str(hours)} hours, {minutes:4.1f} minutes, {seconds:4.2f} seconds)'\n",
    "        print_in_color (msg) # print out training duration time\n",
    "        \n",
    "    def on_epoch_end(self, epoch, logs=None):  # method runs on the end of each epoch\n",
    "        vloss=logs.get('val_loss')  # get the validation loss for this epoch\n",
    "        aloss=logs.get('loss')\n",
    "        if epoch >0:\n",
    "            deltav = self.lowest_vloss- vloss \n",
    "            pimprov=(deltav/self.lowest_vloss) * 100 \n",
    "            self.plist.append(pimprov)\n",
    "            deltaa=self.lowest_aloss-aloss\n",
    "            aimprov=(deltaa/self.lowest_aloss) * 100\n",
    "            self.alist.append(aimprov)\n",
    "        else:\n",
    "            pimprov=0.0 \n",
    "            aimprov=0.0\n",
    "        if vloss< self.lowest_vloss:\n",
    "            self.lowest_vloss=vloss\n",
    "            self.best_weights=self.model.get_weights() # set best weights to model's initial weights\n",
    "            self.best_epoch=epoch + 1            \n",
    "            msg=f'\\n validation loss of {vloss:7.4f} is {pimprov:7.4f} % below lowest loss, saving weights from epoch {str(epoch + 1):3s} as best weights'\n",
    "            print_in_color(msg, (0,255,0)) # green foreground\n",
    "        else: # validation loss increased\n",
    "            pimprov=abs(pimprov)\n",
    "            msg=f'\\n validation loss of {vloss:7.4f} is {pimprov:7.4f} % above lowest loss of {self.lowest_vloss:7.4f} keeping weights from epoch {str(self.best_epoch)} as best weights'\n",
    "            print_in_color(msg, (255,255,0)) # yellow foreground\n",
    "            if self.dwell: # if dwell is True when the validation loss increases the learning rate is automatically reduced and model weights are set to best weights\n",
    "                lr=float(tf.keras.backend.get_value(self.model.optimizer.lr)) # get the current learning rate\n",
    "                new_lr=lr * self.factor\n",
    "                msg=f'learning rate was automatically adjusted from {lr:8.6f} to {new_lr:8.6f}, model weights set to best weights'\n",
    "                print_in_color(msg) # cyan foreground\n",
    "                tf.keras.backend.set_value(self.model.optimizer.lr, new_lr) # set the learning rate in the optimizer\n",
    "                self.model.set_weights(self.best_weights) # set the weights of the model to the best weights      \n",
    "                \n",
    "        if aloss< self.lowest_aloss:\n",
    "            self.lowest_aloss=aloss        \n",
    "        if self.ask: # are the conditions right to query the user?\n",
    "            if epoch + 1 ==self.ask_epoch: # is this epoch the one for quering the user?\n",
    "                msg='press enter to continue or enter a comment  below '\n",
    "                print_in_color(msg)\n",
    "                comment=input(' ')\n",
    "                if comment !='':\n",
    "                    comment = 'User comment: ' + comment\n",
    "                    print_in_color(comment, (155,245,66))\n",
    "                msg='\\n Enter H to end training or  an integer for the number of additional epochs to run then ask again'\n",
    "                print_in_color(msg) # cyan foreground\n",
    "                ans=input()\n",
    "                \n",
    "                if ans == 'H' or ans =='h' or ans == '0': # quit training for these conditions\n",
    "                    msg=f'you entered {ans},  Training halted on epoch {epoch+1} due to user input\\n'\n",
    "                    print_in_color(msg)\n",
    "                    self.model.stop_training = True # halt training\n",
    "                else: # user wants to continue training\n",
    "                    self.ask_epoch += int(ans)\n",
    "                    if self.ask_epoch > self.epochs:\n",
    "                        print('\\nYou specified maximum epochs of as ', self.epochs, ' cannot train for ', self.ask_epoch, flush =True)\n",
    "                    else:\n",
    "                        msg=f'you entered {ans} Training will continue to epoch {self.ask_epoch}'\n",
    "                        print_in_color(msg) # cyan foreground\n",
    "                        if self.dwell==False:\n",
    "                            lr=float(tf.keras.backend.get_value(self.model.optimizer.lr)) # get the current learning rate\n",
    "                            msg=f'current LR is  {lr:8.6f}  hit enter to keep  this LR or enter a new LR'\n",
    "                            print_in_color(msg) # cyan foreground\n",
    "                            ans=input(' ')\n",
    "                            if ans =='':\n",
    "                                msg=f'keeping current LR of {lr:7.5f}'\n",
    "                                print_in_color(msg) # cyan foreground\n",
    "                            else:\n",
    "                                new_lr=float(ans)\n",
    "                                tf.keras.backend.set_value(self.model.optimizer.lr, new_lr) # set the learning rate in the optimizer\n",
    "                                msg=f' changing LR to {ans}'\n",
    "                                print_in_color(msg) # cyan foreground"
   ]
  },
  {
   "cell_type": "code",
   "execution_count": 57,
   "metadata": {},
   "outputs": [],
   "source": [
    "epochs = 25\n",
    "ask_epoch =25\n",
    "ask=LR_ASK(model, epochs,  ask_epoch)"
   ]
  },
  {
   "cell_type": "code",
   "execution_count": 58,
   "metadata": {},
   "outputs": [
    {
     "name": "stdout",
     "output_type": "stream",
     "text": [
      "400/400 [==============================] - 399s 960ms/step - loss: 7.4041 - accuracy: 0.5570 - F1_score: 0.5277 - auc: 0.8758 - val_loss: 5.4546 - val_accuracy: 0.7113 - val_F1_score: 0.6870 - val_auc: 0.9507\n"
     ]
    }
   ],
   "source": [
    "history=model.fit(x=train_gen,   epochs=epochs, verbose=1,  validation_data=valid_gen,\n",
    "               validation_steps=None,  shuffle=False,  initial_epoch=0)"
   ]
  },
  {
   "cell_type": "code",
   "execution_count": 59,
   "metadata": {},
   "outputs": [],
   "source": [
    "import pickle\n",
    "with open('history[efficientnet_history].pkl','wb') as f:\n",
    "    pickle.dump(history.history,f)"
   ]
  },
  {
   "cell_type": "code",
   "execution_count": 60,
   "metadata": {},
   "outputs": [],
   "source": [
    "with open('history[efficientnet_history].pkl', 'rb') as f:\n",
    "    loaded_history =pickle.load(f)"
   ]
  },
  {
   "cell_type": "code",
   "execution_count": 61,
   "metadata": {},
   "outputs": [
    {
     "data": {
      "image/png": "[encoded data removed]",
      "text/plain": [
       "<Figure size 1000x500 with 2 Axes>"
      ]
     },
     "metadata": {},
     "output_type": "display_data"
    }
   ],
   "source": [
    "# Plot training history\n",
    "plt.figure(figsize=(10, 5))\n",
    "\n",
    "# Plot training and validation accuracy\n",
    "plt.subplot(1, 2, 1)\n",
    "plt.plot(loaded_history['accuracy'], label='Training Accuracy')\n",
    "plt.plot(loaded_history['val_accuracy'], label='Validation Accuracy')\n",
    "plt.xlabel('Epoch')\n",
    "plt.ylabel('Accuracy')\n",
    "plt.ylim([0, 1])\n",
    "plt.legend()\n",
    "plt.title('Training and Validation Accuracy')\n",
    "\n",
    "# Plot training and validation accuracy\n",
    "plt.subplot(1, 2, 2)\n",
    "plt.plot(loaded_history['loss'], label='Training Loss')\n",
    "plt.plot(loaded_history['val_loss'], label='Validation Loss')\n",
    "plt.xlabel('Epoch')\n",
    "plt.ylabel('Loss')\n",
    "plt.legend()\n",
    "plt.title('Training and Validation Loss')\n",
    "\n",
    "plt.show()"
   ]
  },
  {
   "cell_type": "code",
   "execution_count": 62,
   "metadata": {},
   "outputs": [
    {
     "name": "stdout",
     "output_type": "stream",
     "text": [
      "10/10 [==============================] - 60s 4s/step\n",
      "\u001b[38;2;0;255;255;48;2;100;100;100mthere were 215 errors in 800 tests for an accuracy of  73.12\n",
      "\u001b[0m\n"
     ]
    },
    {
     "data": {
      "image/png": "[encoded data removed]",
      "text/plain": [
       "<Figure size 1200x800 with 1 Axes>"
      ]
     },
     "metadata": {},
     "output_type": "display_data"
    },
    {
     "name": "stdout",
     "output_type": "stream",
     "text": [
      "Classification Report:\n",
      "----------------------\n",
      "               precision    recall  f1-score   support\n",
      "\n",
      "           0     0.6387    0.7600    0.6941       100\n",
      "           1     0.6321    0.6700    0.6505       100\n",
      "           2     0.6575    0.4800    0.5549       100\n",
      "           3     0.7083    0.8500    0.7727       100\n",
      "           4     1.0000    0.9900    0.9950       100\n",
      "           5     0.6180    0.5500    0.5820       100\n",
      "           6     0.6941    0.5900    0.6378       100\n",
      "           7     0.8807    0.9600    0.9187       100\n",
      "\n",
      "    accuracy                         0.7312       800\n",
      "   macro avg     0.7287    0.7312    0.7257       800\n",
      "weighted avg     0.7287    0.7312    0.7257       800\n",
      "\n"
     ]
    }
   ],
   "source": [
    "from sklearn.metrics import confusion_matrix \n",
    "\n",
    "def predictor(test_gen):    \n",
    "    y_pred= []\n",
    "    error_list=[]\n",
    "    error_pred_list = []\n",
    "    y_true=test_gen.labels\n",
    "    classes=list(test_gen.class_indices.keys())\n",
    "    class_count=len(classes)\n",
    "    errors=0\n",
    "    preds=model.predict(test_gen, verbose=1)\n",
    "    tests=len(preds)    \n",
    "    for i, p in enumerate(preds):        \n",
    "        pred_index=np.argmax(p)         \n",
    "        true_index=test_gen.labels[i]  # labels are integer values        \n",
    "        if pred_index != true_index: # a misclassification has occurred                                           \n",
    "            errors=errors + 1\n",
    "            file=test_gen.filenames[i]\n",
    "            error_list.append(file)\n",
    "            error_class=classes[pred_index]\n",
    "            error_pred_list.append(error_class)\n",
    "        y_pred.append(pred_index)\n",
    "            \n",
    "    acc=( 1-errors/tests) * 100\n",
    "    msg=f'there were {errors} errors in {tests} tests for an accuracy of {acc:6.2f}'\n",
    "    print_in_color(msg, (0,255,255), (100,100,100)) # cyan foreground\n",
    "    ypred=np.array(y_pred)\n",
    "    ytrue=np.array(y_true)\n",
    "    f1score=f1_score(ytrue, ypred, average='weighted')* 100\n",
    "    if class_count <=30:\n",
    "        cm = confusion_matrix(ytrue, ypred )\n",
    "        # plot the confusion matrix\n",
    "        plt.figure(figsize=(12, 8))\n",
    "        sns.heatmap(cm, annot=True, vmin=0, fmt='g', cmap='Blues', cbar=False)       \n",
    "        plt.xticks(np.arange(class_count)+.5, classes, rotation=90)\n",
    "        plt.yticks(np.arange(class_count)+.5, classes, rotation=0)\n",
    "        plt.xlabel(\"Predicted\")\n",
    "        plt.ylabel(\"Actual\")\n",
    "        plt.title(\"Confusion Matrix\")\n",
    "        plt.show()\n",
    "    clr = classification_report(y_true, y_pred, target_names=classes, digits= 4) # create classification report\n",
    "    print(\"Classification Report:\\n----------------------\\n\", clr)\n",
    "    return errors, tests, error_list, error_pred_list, f1score, y_pred, y_true\n",
    "\n",
    "errors, tests, error_list, error_pred_list, f1score, y_pred, y_true = predictor(test_gen)"
   ]
  },
  {
   "cell_type": "code",
   "execution_count": 63,
   "metadata": {},
   "outputs": [
    {
     "name": "stdout",
     "output_type": "stream",
     "text": [
      "1/1 [==============================] - 5s 5s/step\n",
      "Predicted class: healthy\n"
     ]
    }
   ],
   "source": [
    "import numpy as np\n",
    "from tensorflow.keras.preprocessing import image as keras_image\n",
    "from tensorflow.keras.applications.efficientnet import preprocess_input, EfficientNetB0, decode_predictions\n",
    "\n",
    "def load_and_preprocess_image(image_path, img_size):\n",
    "    img = keras_image.load_img(image_path, target_size=img_size)\n",
    "    img_array = keras_image.img_to_array(img)\n",
    "    img_array = preprocess_input(img_array)\n",
    "    return np.expand_dims(img_array, axis=0)\n",
    "\n",
    "def predict_image_class(image_path):\n",
    "    img_size = (224, 224)  # Assuming the input size of your model is (224, 224)\n",
    "    image = load_and_preprocess_image(image_path, img_size)\n",
    "    predictions = model.predict(image)\n",
    "    predicted_class_index = np.argmax(predictions)\n",
    "    # Assuming you have a list or array of class names\n",
    "    class_names = [\"akiec\",\"bcc\",\"bkl\",\"df\",\"healthy\",\"mel\",\"nv\",\"vasc\"]  # Replace with your actual class names\n",
    "    predicted_class_name = class_names[predicted_class_index]\n",
    "    return predicted_class_name\n",
    "\n",
    "# Example usage\n",
    "image_path = r\"D:\\ProjectNew\\test\\image24(healthy).jpg\"\n",
    "predicted_class = predict_image_class(image_path)\n",
    "print(\"Predicted class:\", predicted_class)\n"
   ]
  },
  {
   "cell_type": "code",
   "execution_count": 64,
   "metadata": {},
   "outputs": [],
   "source": [
    "model.save('efficientnetfreezedepoch25.h5')"
   ]
  }
 ],
 "metadata": {
  "kernelspec": {
   "display_name": "Python 3 (ipykernel)",
   "language": "python",
   "name": "python3"
  },
  "language_info": {
   "codemirror_mode": {
    "name": "ipython",
    "version": 3
   },
   "file_extension": ".py",
   "mimetype": "text/x-python",
   "name": "python",
   "nbconvert_exporter": "python",
   "pygments_lexer": "ipython3",
   "version": "3.11.2"
  }
 },
 "nbformat": 4,
 "nbformat_minor": 2
}
